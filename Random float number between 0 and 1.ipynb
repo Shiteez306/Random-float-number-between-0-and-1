{
  "nbformat": 4,
  "nbformat_minor": 0,
  "metadata": {
    "colab": {
      "provenance": [],
      "authorship_tag": "ABX9TyM6R9g0pzfd0dOh/gecuDmD",
      "include_colab_link": true
    },
    "kernelspec": {
      "name": "python3",
      "display_name": "Python 3"
    },
    "language_info": {
      "name": "python"
    }
  },
  "cells": [
    {
      "cell_type": "markdown",
      "metadata": {
        "id": "view-in-github",
        "colab_type": "text"
      },
      "source": [
        "<a href=\"https://colab.research.google.com/github/Shiteez306/Random-float-number-between-0-and-1/blob/main/Random%20float%20number%20between%200%20and%201.ipynb\" target=\"_parent\"><img src=\"https://colab.research.google.com/assets/colab-badge.svg\" alt=\"Open In Colab\"/></a>"
      ]
    },
    {
      "cell_type": "code",
      "execution_count": 3,
      "metadata": {
        "colab": {
          "base_uri": "https://localhost:8080/"
        },
        "id": "mpGHhT5XusXl",
        "outputId": "b0cf00f7-18cc-4b5a-e34f-2fe5d79828bd"
      },
      "outputs": [
        {
          "output_type": "stream",
          "name": "stdout",
          "text": [
            "0.33376075860643084\n"
          ]
        }
      ],
      "source": [
        "# This method will only generate random float value between 0 and 1 or [0,1]\n",
        "import random\n",
        "\n",
        "num = random.random()  #this will generate random float number between [0,1] or 0 and 1\n",
        "print(num)"
      ]
    }
  ]
}